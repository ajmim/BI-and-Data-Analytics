{
  "nbformat": 4,
  "nbformat_minor": 0,
  "metadata": {
    "colab": {
      "name": "Copie de Assignment.ipynb",
      "provenance": [],
      "collapsed_sections": []
    },
    "kernelspec": {
      "name": "python3",
      "display_name": "Python 3"
    }
  },
  "cells": [
    {
      "cell_type": "markdown",
      "metadata": {
        "id": "UccXryI7Dp9a"
      },
      "source": [
        "# Business Intelligence and Analytics - Assignment\n"
      ]
    },
    {
      "cell_type": "markdown",
      "metadata": {
        "id": "ha1yIISnEr50"
      },
      "source": [
        "Welcome to the Assignment! You have to complete this notebook to find the answers to the 16 questions below. The data needed can be found in the data subfolder.\n",
        "\n",
        "In order to properly submit the assignment, you will have to do **both** steps mentioned below. Both of these must be done on the Moodle page, right under the forums.\n",
        "- Answer the questions on the [quiz](https://moodle.unil.ch/mod/quiz/view.php?id=1029998).\n",
        "- Submit your [notebook](https://moodle.unil.ch/mod/assign/view.php?id=1034597).\n",
        "\n",
        "Make sure to follow all instructions carefully.\n",
        "\n",
        "Good luck!\n"
      ]
    },
    {
      "cell_type": "markdown",
      "metadata": {
        "id": "8PP_moZVXBk_"
      },
      "source": [
        "### Part 1 - Data Cleaning"
      ]
    },
    {
      "cell_type": "markdown",
      "metadata": {
        "id": "dn13IH-NJkhb"
      },
      "source": [
        "**IMPORTANT:** In this part, whenever you are asked to perform an operation on the DataFrame (dropping rows, changing datatypes, etc.), you should always continue the exercise with the altered DataFrame.\n",
        "\n",
        "First, begin by importing pandas."
      ]
    },
    {
      "cell_type": "code",
      "metadata": {
        "id": "VPUcTLlKZoZR"
      },
      "source": [
        "import pandas as pd \n"
      ],
      "execution_count": 1,
      "outputs": []
    },
    {
      "cell_type": "markdown",
      "metadata": {
        "id": "nJHd9UZbW7FR"
      },
      "source": [
        "Load the dataset that contains various information about every company on the 2018 edition of the Fortune 500 list. That list is an annual ranking of the 500 largest US corporations (by revenues). The individual columns should be self-explanatory.\n",
        "\n",
        "You have to find the corresponding url yourself. The dataset is located in the assignment folder under data. Taking a look at the raw data before loading it might be useful."
      ]
    },
    {
      "cell_type": "code",
      "metadata": {
        "id": "031zLoWPER9t",
        "colab": {
          "base_uri": "https://localhost:8080/",
          "height": 336
        },
        "outputId": "4d09f22d-7e54-4700-9fd0-ce24de883c75"
      },
      "source": [
        "fortune_500 = pd.read_csv('https://raw.githubusercontent.com/michalis0/Business-Intelligence-and-Analytics/master/assignment/data/fortune500.csv', delimiter = ';')\n",
        "fortune_500.head()\n"
      ],
      "execution_count": 2,
      "outputs": [
        {
          "output_type": "execute_result",
          "data": {
            "text/html": [
              "<div>\n",
              "<style scoped>\n",
              "    .dataframe tbody tr th:only-of-type {\n",
              "        vertical-align: middle;\n",
              "    }\n",
              "\n",
              "    .dataframe tbody tr th {\n",
              "        vertical-align: top;\n",
              "    }\n",
              "\n",
              "    .dataframe thead th {\n",
              "        text-align: right;\n",
              "    }\n",
              "</style>\n",
              "<table border=\"1\" class=\"dataframe\">\n",
              "  <thead>\n",
              "    <tr style=\"text-align: right;\">\n",
              "      <th></th>\n",
              "      <th>Rank</th>\n",
              "      <th>Company</th>\n",
              "      <th>Previous Rank</th>\n",
              "      <th>Revenues ($M)</th>\n",
              "      <th>Profits ($M)</th>\n",
              "      <th>Assets ($M)</th>\n",
              "      <th>Market Value ($M)</th>\n",
              "      <th>Employees</th>\n",
              "      <th>CEO</th>\n",
              "      <th>CEO Title</th>\n",
              "      <th>CEO Gender</th>\n",
              "      <th>Sector</th>\n",
              "      <th>Industry</th>\n",
              "      <th>Years on Fortune 500 List</th>\n",
              "      <th>City</th>\n",
              "      <th>State</th>\n",
              "      <th>Latitude</th>\n",
              "      <th>Longitude</th>\n",
              "    </tr>\n",
              "  </thead>\n",
              "  <tbody>\n",
              "    <tr>\n",
              "      <th>0</th>\n",
              "      <td>1</td>\n",
              "      <td>Walmart</td>\n",
              "      <td>1.0</td>\n",
              "      <td>500343.0</td>\n",
              "      <td>9862</td>\n",
              "      <td>204522</td>\n",
              "      <td>263563.0</td>\n",
              "      <td>2300000</td>\n",
              "      <td>C. Douglas McMillon</td>\n",
              "      <td>President, Chief Executive Officer &amp;  Director</td>\n",
              "      <td>Male</td>\n",
              "      <td>Retailing</td>\n",
              "      <td>General Merchandisers</td>\n",
              "      <td>24</td>\n",
              "      <td>Bentonville</td>\n",
              "      <td>AR</td>\n",
              "      <td>36.372854</td>\n",
              "      <td>-94.208817</td>\n",
              "    </tr>\n",
              "    <tr>\n",
              "      <th>1</th>\n",
              "      <td>2</td>\n",
              "      <td>Exxon Mobil</td>\n",
              "      <td>4.0</td>\n",
              "      <td>244363.0</td>\n",
              "      <td>19710</td>\n",
              "      <td>348691</td>\n",
              "      <td>316157.0</td>\n",
              "      <td>71200</td>\n",
              "      <td>Darren W. Woods</td>\n",
              "      <td>Chairman &amp;  Chief Executive Officer</td>\n",
              "      <td>Male</td>\n",
              "      <td>Energy</td>\n",
              "      <td>Petroleum Refining</td>\n",
              "      <td>24</td>\n",
              "      <td>Irving</td>\n",
              "      <td>TX</td>\n",
              "      <td>32.814018</td>\n",
              "      <td>-96.948894</td>\n",
              "    </tr>\n",
              "    <tr>\n",
              "      <th>2</th>\n",
              "      <td>3</td>\n",
              "      <td>Berkshire Hathaway</td>\n",
              "      <td>2.0</td>\n",
              "      <td>242137.0</td>\n",
              "      <td>44940</td>\n",
              "      <td>702095</td>\n",
              "      <td>492008.0</td>\n",
              "      <td>377000</td>\n",
              "      <td>Warren E. Buffett</td>\n",
              "      <td>Chairman, President &amp;  Chief Executive Officer</td>\n",
              "      <td>Male</td>\n",
              "      <td>Financials</td>\n",
              "      <td>Insurance: Property and Casualty (Stock)</td>\n",
              "      <td>24</td>\n",
              "      <td>Omaha</td>\n",
              "      <td>NE</td>\n",
              "      <td>41.256537</td>\n",
              "      <td>-95.934503</td>\n",
              "    </tr>\n",
              "    <tr>\n",
              "      <th>3</th>\n",
              "      <td>4</td>\n",
              "      <td>Apple</td>\n",
              "      <td>3.0</td>\n",
              "      <td>229234.0</td>\n",
              "      <td>48351</td>\n",
              "      <td>375319</td>\n",
              "      <td>851318.0</td>\n",
              "      <td>123000</td>\n",
              "      <td>Timothy D. Cook</td>\n",
              "      <td>Chairman &amp;  Chief Executive Officer</td>\n",
              "      <td>Male</td>\n",
              "      <td>Technology</td>\n",
              "      <td>Computers, Office Equipment</td>\n",
              "      <td>24</td>\n",
              "      <td>Cupertino</td>\n",
              "      <td>CA</td>\n",
              "      <td>37.322998</td>\n",
              "      <td>-122.032182</td>\n",
              "    </tr>\n",
              "    <tr>\n",
              "      <th>4</th>\n",
              "      <td>5</td>\n",
              "      <td>UnitedHealth Group</td>\n",
              "      <td>6.0</td>\n",
              "      <td>201159.0</td>\n",
              "      <td>10558</td>\n",
              "      <td>139058</td>\n",
              "      <td>207080.0</td>\n",
              "      <td>260000</td>\n",
              "      <td>David S. Wichmann</td>\n",
              "      <td>Chairman &amp;  Chief Executive Officer</td>\n",
              "      <td>Male</td>\n",
              "      <td>Health Care</td>\n",
              "      <td>Health Care: Insurance and Managed Care</td>\n",
              "      <td>24</td>\n",
              "      <td>Minnetonka</td>\n",
              "      <td>MN</td>\n",
              "      <td>44.921184</td>\n",
              "      <td>-93.468749</td>\n",
              "    </tr>\n",
              "  </tbody>\n",
              "</table>\n",
              "</div>"
            ],
            "text/plain": [
              "   Rank             Company  Previous Rank  ...  State   Latitude   Longitude\n",
              "0     1             Walmart            1.0  ...     AR  36.372854  -94.208817\n",
              "1     2         Exxon Mobil            4.0  ...     TX  32.814018  -96.948894\n",
              "2     3  Berkshire Hathaway            2.0  ...     NE  41.256537  -95.934503\n",
              "3     4               Apple            3.0  ...     CA  37.322998 -122.032182\n",
              "4     5  UnitedHealth Group            6.0  ...     MN  44.921184  -93.468749\n",
              "\n",
              "[5 rows x 18 columns]"
            ]
          },
          "metadata": {
            "tags": []
          },
          "execution_count": 2
        }
      ]
    },
    {
      "cell_type": "markdown",
      "metadata": {
        "id": "C4mwStdHarvF"
      },
      "source": [
        "#### Question 1: How many rows and columns does the DataFrame contain?"
      ]
    },
    {
      "cell_type": "code",
      "metadata": {
        "id": "NaywC2XKa63o",
        "colab": {
          "base_uri": "https://localhost:8080/"
        },
        "outputId": "79bfc5fa-6b26-4c81-a43e-f849050df40f"
      },
      "source": [
        "fortune_500.shape"
      ],
      "execution_count": 3,
      "outputs": [
        {
          "output_type": "execute_result",
          "data": {
            "text/plain": [
              "(500, 18)"
            ]
          },
          "metadata": {
            "tags": []
          },
          "execution_count": 3
        }
      ]
    },
    {
      "cell_type": "markdown",
      "metadata": {
        "id": "iFboYV5pYMZC"
      },
      "source": [
        "Now take a look at the datatypes of the columns."
      ]
    },
    {
      "cell_type": "code",
      "metadata": {
        "id": "C0yckbB-YEbL",
        "colab": {
          "base_uri": "https://localhost:8080/"
        },
        "outputId": "a48489bd-f58e-490f-8035-dec41401e230"
      },
      "source": [
        "fortune_500.dtypes\n"
      ],
      "execution_count": 4,
      "outputs": [
        {
          "output_type": "execute_result",
          "data": {
            "text/plain": [
              "Rank                           int64\n",
              "Company                       object\n",
              "Previous Rank                float64\n",
              "Revenues ($M)                float64\n",
              "Profits ($M)                  object\n",
              "Assets ($M)                    int64\n",
              "Market Value ($M)            float64\n",
              "Employees                      int64\n",
              "CEO                           object\n",
              "CEO Title                     object\n",
              "CEO Gender                    object\n",
              "Sector                        object\n",
              "Industry                      object\n",
              "Years on Fortune 500 List      int64\n",
              "City                          object\n",
              "State                         object\n",
              "Latitude                     float64\n",
              "Longitude                    float64\n",
              "dtype: object"
            ]
          },
          "metadata": {
            "tags": []
          },
          "execution_count": 4
        }
      ]
    },
    {
      "cell_type": "markdown",
      "metadata": {
        "id": "lEla5Rf0dPxN"
      },
      "source": [
        "We can see that there are several columns that should have a different datatype than what they currently do. Therefore you should now do the following transformations:\n",
        "\n",
        "| Columns | Wanted Datatype |\n",
        "| :---: | :---: |\n",
        "| Profits ($M) | Numerical continuous |\n",
        "| CEO Title | categorical nominal |\n",
        "| CEO Gender | categorical nominal |\n",
        "| Sector | categorical nominal |\n",
        "| Industry | categorical nominal |\n",
        "| State | categorical nominal |\n",
        "\n",
        "All invalid entries that cannot be converted should appear as null values in the DataFrame after you are done with the changes."
      ]
    },
    {
      "cell_type": "code",
      "metadata": {
        "id": "4sgLggGYZFV6",
        "colab": {
          "base_uri": "https://localhost:8080/"
        },
        "outputId": "81bee4e8-c520-43ef-d12f-c83e13d175fc"
      },
      "source": [
        "fortune_500['Profits ($M)'] = pd.to_numeric(fortune_500['Profits ($M)'], errors='coerce')\n",
        "fortune_500['CEO Title'] = fortune_500['CEO Title'].astype('category')\n",
        "fortune_500['CEO Gender'] = fortune_500['CEO Gender'].astype('category')\n",
        "fortune_500['Sector'] = fortune_500['Sector'].astype('category')\n",
        "fortune_500['Industry'] = fortune_500['Industry'].astype('category')\n",
        "fortune_500['State'] = fortune_500['State'].astype('category')\n",
        "\n",
        "print(fortune_500.dtypes)"
      ],
      "execution_count": 5,
      "outputs": [
        {
          "output_type": "stream",
          "text": [
            "Rank                            int64\n",
            "Company                        object\n",
            "Previous Rank                 float64\n",
            "Revenues ($M)                 float64\n",
            "Profits ($M)                  float64\n",
            "Assets ($M)                     int64\n",
            "Market Value ($M)             float64\n",
            "Employees                       int64\n",
            "CEO                            object\n",
            "CEO Title                    category\n",
            "CEO Gender                   category\n",
            "Sector                       category\n",
            "Industry                     category\n",
            "Years on Fortune 500 List       int64\n",
            "City                           object\n",
            "State                        category\n",
            "Latitude                      float64\n",
            "Longitude                     float64\n",
            "dtype: object\n"
          ],
          "name": "stdout"
        }
      ]
    },
    {
      "cell_type": "markdown",
      "metadata": {
        "id": "BpNjdMw-eGAl"
      },
      "source": [
        "We will not need the coordinates of the companies' headquarters. Drop the appropriate columns."
      ]
    },
    {
      "cell_type": "code",
      "metadata": {
        "id": "UmgQoDDCeQCU",
        "colab": {
          "base_uri": "https://localhost:8080/",
          "height": 611
        },
        "outputId": "9a9998af-b280-412c-a68e-be924631764e"
      },
      "source": [
        "old_fortune_500 = fortune_500\n",
        "fortune_500 = fortune_500.drop(['Latitude', 'Longitude'], axis=1)\n",
        "\n",
        "print(fortune_500.dtypes)\n",
        "fortune_500.head()"
      ],
      "execution_count": 6,
      "outputs": [
        {
          "output_type": "stream",
          "text": [
            "Rank                            int64\n",
            "Company                        object\n",
            "Previous Rank                 float64\n",
            "Revenues ($M)                 float64\n",
            "Profits ($M)                  float64\n",
            "Assets ($M)                     int64\n",
            "Market Value ($M)             float64\n",
            "Employees                       int64\n",
            "CEO                            object\n",
            "CEO Title                    category\n",
            "CEO Gender                   category\n",
            "Sector                       category\n",
            "Industry                     category\n",
            "Years on Fortune 500 List       int64\n",
            "City                           object\n",
            "State                        category\n",
            "dtype: object\n"
          ],
          "name": "stdout"
        },
        {
          "output_type": "execute_result",
          "data": {
            "text/html": [
              "<div>\n",
              "<style scoped>\n",
              "    .dataframe tbody tr th:only-of-type {\n",
              "        vertical-align: middle;\n",
              "    }\n",
              "\n",
              "    .dataframe tbody tr th {\n",
              "        vertical-align: top;\n",
              "    }\n",
              "\n",
              "    .dataframe thead th {\n",
              "        text-align: right;\n",
              "    }\n",
              "</style>\n",
              "<table border=\"1\" class=\"dataframe\">\n",
              "  <thead>\n",
              "    <tr style=\"text-align: right;\">\n",
              "      <th></th>\n",
              "      <th>Rank</th>\n",
              "      <th>Company</th>\n",
              "      <th>Previous Rank</th>\n",
              "      <th>Revenues ($M)</th>\n",
              "      <th>Profits ($M)</th>\n",
              "      <th>Assets ($M)</th>\n",
              "      <th>Market Value ($M)</th>\n",
              "      <th>Employees</th>\n",
              "      <th>CEO</th>\n",
              "      <th>CEO Title</th>\n",
              "      <th>CEO Gender</th>\n",
              "      <th>Sector</th>\n",
              "      <th>Industry</th>\n",
              "      <th>Years on Fortune 500 List</th>\n",
              "      <th>City</th>\n",
              "      <th>State</th>\n",
              "    </tr>\n",
              "  </thead>\n",
              "  <tbody>\n",
              "    <tr>\n",
              "      <th>0</th>\n",
              "      <td>1</td>\n",
              "      <td>Walmart</td>\n",
              "      <td>1.0</td>\n",
              "      <td>500343.0</td>\n",
              "      <td>9862.0</td>\n",
              "      <td>204522</td>\n",
              "      <td>263563.0</td>\n",
              "      <td>2300000</td>\n",
              "      <td>C. Douglas McMillon</td>\n",
              "      <td>President, Chief Executive Officer &amp;  Director</td>\n",
              "      <td>Male</td>\n",
              "      <td>Retailing</td>\n",
              "      <td>General Merchandisers</td>\n",
              "      <td>24</td>\n",
              "      <td>Bentonville</td>\n",
              "      <td>AR</td>\n",
              "    </tr>\n",
              "    <tr>\n",
              "      <th>1</th>\n",
              "      <td>2</td>\n",
              "      <td>Exxon Mobil</td>\n",
              "      <td>4.0</td>\n",
              "      <td>244363.0</td>\n",
              "      <td>19710.0</td>\n",
              "      <td>348691</td>\n",
              "      <td>316157.0</td>\n",
              "      <td>71200</td>\n",
              "      <td>Darren W. Woods</td>\n",
              "      <td>Chairman &amp;  Chief Executive Officer</td>\n",
              "      <td>Male</td>\n",
              "      <td>Energy</td>\n",
              "      <td>Petroleum Refining</td>\n",
              "      <td>24</td>\n",
              "      <td>Irving</td>\n",
              "      <td>TX</td>\n",
              "    </tr>\n",
              "    <tr>\n",
              "      <th>2</th>\n",
              "      <td>3</td>\n",
              "      <td>Berkshire Hathaway</td>\n",
              "      <td>2.0</td>\n",
              "      <td>242137.0</td>\n",
              "      <td>44940.0</td>\n",
              "      <td>702095</td>\n",
              "      <td>492008.0</td>\n",
              "      <td>377000</td>\n",
              "      <td>Warren E. Buffett</td>\n",
              "      <td>Chairman, President &amp;  Chief Executive Officer</td>\n",
              "      <td>Male</td>\n",
              "      <td>Financials</td>\n",
              "      <td>Insurance: Property and Casualty (Stock)</td>\n",
              "      <td>24</td>\n",
              "      <td>Omaha</td>\n",
              "      <td>NE</td>\n",
              "    </tr>\n",
              "    <tr>\n",
              "      <th>3</th>\n",
              "      <td>4</td>\n",
              "      <td>Apple</td>\n",
              "      <td>3.0</td>\n",
              "      <td>229234.0</td>\n",
              "      <td>48351.0</td>\n",
              "      <td>375319</td>\n",
              "      <td>851318.0</td>\n",
              "      <td>123000</td>\n",
              "      <td>Timothy D. Cook</td>\n",
              "      <td>Chairman &amp;  Chief Executive Officer</td>\n",
              "      <td>Male</td>\n",
              "      <td>Technology</td>\n",
              "      <td>Computers, Office Equipment</td>\n",
              "      <td>24</td>\n",
              "      <td>Cupertino</td>\n",
              "      <td>CA</td>\n",
              "    </tr>\n",
              "    <tr>\n",
              "      <th>4</th>\n",
              "      <td>5</td>\n",
              "      <td>UnitedHealth Group</td>\n",
              "      <td>6.0</td>\n",
              "      <td>201159.0</td>\n",
              "      <td>10558.0</td>\n",
              "      <td>139058</td>\n",
              "      <td>207080.0</td>\n",
              "      <td>260000</td>\n",
              "      <td>David S. Wichmann</td>\n",
              "      <td>Chairman &amp;  Chief Executive Officer</td>\n",
              "      <td>Male</td>\n",
              "      <td>Health Care</td>\n",
              "      <td>Health Care: Insurance and Managed Care</td>\n",
              "      <td>24</td>\n",
              "      <td>Minnetonka</td>\n",
              "      <td>MN</td>\n",
              "    </tr>\n",
              "  </tbody>\n",
              "</table>\n",
              "</div>"
            ],
            "text/plain": [
              "   Rank             Company  ...         City  State\n",
              "0     1             Walmart  ...  Bentonville     AR\n",
              "1     2         Exxon Mobil  ...       Irving     TX\n",
              "2     3  Berkshire Hathaway  ...        Omaha     NE\n",
              "3     4               Apple  ...    Cupertino     CA\n",
              "4     5  UnitedHealth Group  ...   Minnetonka     MN\n",
              "\n",
              "[5 rows x 16 columns]"
            ]
          },
          "metadata": {
            "tags": []
          },
          "execution_count": 6
        }
      ]
    },
    {
      "cell_type": "markdown",
      "metadata": {
        "id": "svYbRowdbTLz"
      },
      "source": [
        "#### Question 2: What column has the most missing values?\n",
        "\n",
        "\n"
      ]
    },
    {
      "cell_type": "code",
      "metadata": {
        "id": "odx0CWM6abI6",
        "colab": {
          "base_uri": "https://localhost:8080/"
        },
        "outputId": "51072cf6-0bcf-493a-bf6a-bdfd2963230e"
      },
      "source": [
        "fortune_500.isnull().sum()\n"
      ],
      "execution_count": 7,
      "outputs": [
        {
          "output_type": "execute_result",
          "data": {
            "text/plain": [
              "Rank                          0\n",
              "Company                       0\n",
              "Previous Rank                 5\n",
              "Revenues ($M)                 0\n",
              "Profits ($M)                  7\n",
              "Assets ($M)                   0\n",
              "Market Value ($M)            28\n",
              "Employees                     0\n",
              "CEO                           7\n",
              "CEO Title                     2\n",
              "CEO Gender                    0\n",
              "Sector                        2\n",
              "Industry                      8\n",
              "Years on Fortune 500 List     0\n",
              "City                          0\n",
              "State                         0\n",
              "dtype: int64"
            ]
          },
          "metadata": {
            "tags": []
          },
          "execution_count": 7
        }
      ]
    },
    {
      "cell_type": "markdown",
      "metadata": {
        "id": "Vz2gq2erbYKu"
      },
      "source": [
        "Drop the rows with missing values."
      ]
    },
    {
      "cell_type": "code",
      "metadata": {
        "id": "V40dvDEVbgMP",
        "colab": {
          "base_uri": "https://localhost:8080/"
        },
        "outputId": "9d24e800-bdb4-4ede-b12c-43eb116040f3"
      },
      "source": [
        "fortune_500 = fortune_500.dropna()\n",
        "\n",
        "fortune_500.isnull().sum()\n"
      ],
      "execution_count": 8,
      "outputs": [
        {
          "output_type": "execute_result",
          "data": {
            "text/plain": [
              "Rank                         0\n",
              "Company                      0\n",
              "Previous Rank                0\n",
              "Revenues ($M)                0\n",
              "Profits ($M)                 0\n",
              "Assets ($M)                  0\n",
              "Market Value ($M)            0\n",
              "Employees                    0\n",
              "CEO                          0\n",
              "CEO Title                    0\n",
              "CEO Gender                   0\n",
              "Sector                       0\n",
              "Industry                     0\n",
              "Years on Fortune 500 List    0\n",
              "City                         0\n",
              "State                        0\n",
              "dtype: int64"
            ]
          },
          "metadata": {
            "tags": []
          },
          "execution_count": 8
        }
      ]
    },
    {
      "cell_type": "markdown",
      "metadata": {
        "id": "1-JSGPn9bw2V"
      },
      "source": [
        "#### Question 3: How many rows were dropped?"
      ]
    },
    {
      "cell_type": "code",
      "metadata": {
        "id": "5FeB2v6Vbssr",
        "colab": {
          "base_uri": "https://localhost:8080/"
        },
        "outputId": "5dbf254e-6155-4fa5-854a-c956e798708b"
      },
      "source": [
        "#compare to first shape instruction : fortune_500.shape\n",
        "\n",
        "length = len(old_fortune_500.index) - len(fortune_500.index)\n",
        "\n",
        "print(length)\n"
      ],
      "execution_count": 9,
      "outputs": [
        {
          "output_type": "stream",
          "text": [
            "55\n"
          ],
          "name": "stdout"
        }
      ]
    },
    {
      "cell_type": "markdown",
      "metadata": {
        "id": "cC-9OlDzckYS"
      },
      "source": [
        "#### Question 4: What percentage of CEOs are women? (Round to two decimals)\n",
        "\n",
        "(1.01% should be entered as 1.01)"
      ]
    },
    {
      "cell_type": "code",
      "metadata": {
        "id": "uKuFaTE0cti4",
        "colab": {
          "base_uri": "https://localhost:8080/"
        },
        "outputId": "51c62c0b-e9fc-4df1-e1a0-d1ed5c9dead0"
      },
      "source": [
        "#TODO: COMPUTE THE PERCENTAGE OF WOMEN CEOs\n",
        "values = fortune_500[\"CEO Gender\"].value_counts()\n",
        "proportion = values[\"Female\"]/(values[\"Female\"] + values[\"Male\"])\n",
        "\n",
        "print(\"Women account for {}% of CEOs.\".format(round(proportion*100,2 )))\n"
      ],
      "execution_count": 10,
      "outputs": [
        {
          "output_type": "stream",
          "text": [
            "Women account for 5.17% of CEOs.\n"
          ],
          "name": "stdout"
        }
      ]
    },
    {
      "cell_type": "markdown",
      "metadata": {
        "id": "x2M4GRWehmkz"
      },
      "source": [
        "We are now interested in the change in rank each company made over the past year."
      ]
    },
    {
      "cell_type": "code",
      "metadata": {
        "id": "2CZBHg6Shunq",
        "colab": {
          "base_uri": "https://localhost:8080/",
          "height": 319
        },
        "cellView": "code",
        "outputId": "f83c45e4-34c2-441c-8835-4a4aa37937b5"
      },
      "source": [
        "past_rank = fortune_500['Previous Rank']\n",
        "rank = fortune_500['Rank']\n",
        "\n",
        "fortune_500['change in rank'] = past_rank - rank # if -1 --> went down 1 rank. If 1 -> went up one rank\n",
        "\n",
        "fortune_500.head()\n",
        "\n"
      ],
      "execution_count": 11,
      "outputs": [
        {
          "output_type": "execute_result",
          "data": {
            "text/html": [
              "<div>\n",
              "<style scoped>\n",
              "    .dataframe tbody tr th:only-of-type {\n",
              "        vertical-align: middle;\n",
              "    }\n",
              "\n",
              "    .dataframe tbody tr th {\n",
              "        vertical-align: top;\n",
              "    }\n",
              "\n",
              "    .dataframe thead th {\n",
              "        text-align: right;\n",
              "    }\n",
              "</style>\n",
              "<table border=\"1\" class=\"dataframe\">\n",
              "  <thead>\n",
              "    <tr style=\"text-align: right;\">\n",
              "      <th></th>\n",
              "      <th>Rank</th>\n",
              "      <th>Company</th>\n",
              "      <th>Previous Rank</th>\n",
              "      <th>Revenues ($M)</th>\n",
              "      <th>Profits ($M)</th>\n",
              "      <th>Assets ($M)</th>\n",
              "      <th>Market Value ($M)</th>\n",
              "      <th>Employees</th>\n",
              "      <th>CEO</th>\n",
              "      <th>CEO Title</th>\n",
              "      <th>CEO Gender</th>\n",
              "      <th>Sector</th>\n",
              "      <th>Industry</th>\n",
              "      <th>Years on Fortune 500 List</th>\n",
              "      <th>City</th>\n",
              "      <th>State</th>\n",
              "      <th>change in rank</th>\n",
              "    </tr>\n",
              "  </thead>\n",
              "  <tbody>\n",
              "    <tr>\n",
              "      <th>0</th>\n",
              "      <td>1</td>\n",
              "      <td>Walmart</td>\n",
              "      <td>1.0</td>\n",
              "      <td>500343.0</td>\n",
              "      <td>9862.0</td>\n",
              "      <td>204522</td>\n",
              "      <td>263563.0</td>\n",
              "      <td>2300000</td>\n",
              "      <td>C. Douglas McMillon</td>\n",
              "      <td>President, Chief Executive Officer &amp;  Director</td>\n",
              "      <td>Male</td>\n",
              "      <td>Retailing</td>\n",
              "      <td>General Merchandisers</td>\n",
              "      <td>24</td>\n",
              "      <td>Bentonville</td>\n",
              "      <td>AR</td>\n",
              "      <td>0.0</td>\n",
              "    </tr>\n",
              "    <tr>\n",
              "      <th>1</th>\n",
              "      <td>2</td>\n",
              "      <td>Exxon Mobil</td>\n",
              "      <td>4.0</td>\n",
              "      <td>244363.0</td>\n",
              "      <td>19710.0</td>\n",
              "      <td>348691</td>\n",
              "      <td>316157.0</td>\n",
              "      <td>71200</td>\n",
              "      <td>Darren W. Woods</td>\n",
              "      <td>Chairman &amp;  Chief Executive Officer</td>\n",
              "      <td>Male</td>\n",
              "      <td>Energy</td>\n",
              "      <td>Petroleum Refining</td>\n",
              "      <td>24</td>\n",
              "      <td>Irving</td>\n",
              "      <td>TX</td>\n",
              "      <td>2.0</td>\n",
              "    </tr>\n",
              "    <tr>\n",
              "      <th>2</th>\n",
              "      <td>3</td>\n",
              "      <td>Berkshire Hathaway</td>\n",
              "      <td>2.0</td>\n",
              "      <td>242137.0</td>\n",
              "      <td>44940.0</td>\n",
              "      <td>702095</td>\n",
              "      <td>492008.0</td>\n",
              "      <td>377000</td>\n",
              "      <td>Warren E. Buffett</td>\n",
              "      <td>Chairman, President &amp;  Chief Executive Officer</td>\n",
              "      <td>Male</td>\n",
              "      <td>Financials</td>\n",
              "      <td>Insurance: Property and Casualty (Stock)</td>\n",
              "      <td>24</td>\n",
              "      <td>Omaha</td>\n",
              "      <td>NE</td>\n",
              "      <td>-1.0</td>\n",
              "    </tr>\n",
              "    <tr>\n",
              "      <th>3</th>\n",
              "      <td>4</td>\n",
              "      <td>Apple</td>\n",
              "      <td>3.0</td>\n",
              "      <td>229234.0</td>\n",
              "      <td>48351.0</td>\n",
              "      <td>375319</td>\n",
              "      <td>851318.0</td>\n",
              "      <td>123000</td>\n",
              "      <td>Timothy D. Cook</td>\n",
              "      <td>Chairman &amp;  Chief Executive Officer</td>\n",
              "      <td>Male</td>\n",
              "      <td>Technology</td>\n",
              "      <td>Computers, Office Equipment</td>\n",
              "      <td>24</td>\n",
              "      <td>Cupertino</td>\n",
              "      <td>CA</td>\n",
              "      <td>-1.0</td>\n",
              "    </tr>\n",
              "    <tr>\n",
              "      <th>4</th>\n",
              "      <td>5</td>\n",
              "      <td>UnitedHealth Group</td>\n",
              "      <td>6.0</td>\n",
              "      <td>201159.0</td>\n",
              "      <td>10558.0</td>\n",
              "      <td>139058</td>\n",
              "      <td>207080.0</td>\n",
              "      <td>260000</td>\n",
              "      <td>David S. Wichmann</td>\n",
              "      <td>Chairman &amp;  Chief Executive Officer</td>\n",
              "      <td>Male</td>\n",
              "      <td>Health Care</td>\n",
              "      <td>Health Care: Insurance and Managed Care</td>\n",
              "      <td>24</td>\n",
              "      <td>Minnetonka</td>\n",
              "      <td>MN</td>\n",
              "      <td>1.0</td>\n",
              "    </tr>\n",
              "  </tbody>\n",
              "</table>\n",
              "</div>"
            ],
            "text/plain": [
              "   Rank             Company  Previous Rank  ...         City  State  change in rank\n",
              "0     1             Walmart            1.0  ...  Bentonville     AR             0.0\n",
              "1     2         Exxon Mobil            4.0  ...       Irving     TX             2.0\n",
              "2     3  Berkshire Hathaway            2.0  ...        Omaha     NE            -1.0\n",
              "3     4               Apple            3.0  ...    Cupertino     CA            -1.0\n",
              "4     5  UnitedHealth Group            6.0  ...   Minnetonka     MN             1.0\n",
              "\n",
              "[5 rows x 17 columns]"
            ]
          },
          "metadata": {
            "tags": []
          },
          "execution_count": 11
        }
      ]
    },
    {
      "cell_type": "markdown",
      "metadata": {
        "id": "cHr-_fC9h5UV"
      },
      "source": [
        "#### Question 5: What company gained the most ranks?"
      ]
    },
    {
      "cell_type": "code",
      "metadata": {
        "id": "GieI8avqiCT5",
        "colab": {
          "base_uri": "https://localhost:8080/"
        },
        "outputId": "2e83bfbe-2490-46a7-c00d-56c4dc5198e5"
      },
      "source": [
        "#TODO: FIND THE COMPANY THAT GAINED THE MOST RANKS\n",
        "fortune_500.loc[fortune_500['change in rank'].idxmax()]"
      ],
      "execution_count": 12,
      "outputs": [
        {
          "output_type": "execute_result",
          "data": {
            "text/plain": [
              "Rank                                                                    275\n",
              "Company                                                Molson Coors Brewing\n",
              "Previous Rank                                                           522\n",
              "Revenues ($M)                                                         11003\n",
              "Profits ($M)                                                         1414.2\n",
              "Assets ($M)                                                           30247\n",
              "Market Value ($M)                                                     16238\n",
              "Employees                                                             17200\n",
              "CEO                                                          Mark R. Hunter\n",
              "CEO Title                    President, Chief Executive Officer &  Director\n",
              "CEO Gender                                                             Male\n",
              "Sector                                           Food, Beverages &  Tobacco\n",
              "Industry                                                          Beverages\n",
              "Years on Fortune 500 List                                                 8\n",
              "City                                                                 Denver\n",
              "State                                                                    CO\n",
              "change in rank                                                          247\n",
              "Name: 274, dtype: object"
            ]
          },
          "metadata": {
            "tags": []
          },
          "execution_count": 12
        }
      ]
    },
    {
      "cell_type": "markdown",
      "metadata": {
        "id": "R_TyQW50iOV9"
      },
      "source": [
        "### Part 2 - Regression \n",
        "\n",
        "For this part, you are going to build a linear regression model on crypto-currency trades. Each column of the dataset stands for: \n",
        "\n",
        "\n",
        "*   Name - the stock's ticker name\n",
        "*   Date - in format: yy-mm-dd\n",
        "*   Open - price of the stock when the market opened (NYSE data therefore all in USD)\n",
        "*   High - Highest price the stock reached that day\n",
        "*   Close - price of the stock when the market closed (NYSE data therefore all in USD)\n",
        "*   Volume - Number of shares traded that day\n",
        "*   Market -  Total amount of trades on the market that day\n",
        "*   spread - Trading metric \n",
        "\n",
        "\n",
        "\n",
        "**Task:** Build a linear regression model for the **closing price** of Bitcoin related crypto currencies using the following attributes: \n",
        "\n",
        "`[date,open,high,low,market,volume,spread,name]`\n",
        "\n",
        "First, load the data and make a simple datatype conversion.\n",
        "\n"
      ]
    },
    {
      "cell_type": "code",
      "metadata": {
        "id": "Xan_rH2uZMYT",
        "colab": {
          "base_uri": "https://localhost:8080/",
          "height": 198
        },
        "outputId": "3f39c245-c59e-4ba7-dedb-b8e539129f14"
      },
      "source": [
        "#TODO: RUN THE CELL TO FETCH DATA AND START WORKING \n",
        "url = 'https://storage.googleapis.com/unil_bia/cryptocurrencies.csv'\n",
        "df = pd.read_csv(url, parse_dates=[\"date\"],date_parser= pd.to_datetime)\n",
        "df.head()"
      ],
      "execution_count": 13,
      "outputs": [
        {
          "output_type": "execute_result",
          "data": {
            "text/html": [
              "<div>\n",
              "<style scoped>\n",
              "    .dataframe tbody tr th:only-of-type {\n",
              "        vertical-align: middle;\n",
              "    }\n",
              "\n",
              "    .dataframe tbody tr th {\n",
              "        vertical-align: top;\n",
              "    }\n",
              "\n",
              "    .dataframe thead th {\n",
              "        text-align: right;\n",
              "    }\n",
              "</style>\n",
              "<table border=\"1\" class=\"dataframe\">\n",
              "  <thead>\n",
              "    <tr style=\"text-align: right;\">\n",
              "      <th></th>\n",
              "      <th>name</th>\n",
              "      <th>date</th>\n",
              "      <th>open</th>\n",
              "      <th>high</th>\n",
              "      <th>low</th>\n",
              "      <th>close</th>\n",
              "      <th>volume</th>\n",
              "      <th>market</th>\n",
              "      <th>close_ratio</th>\n",
              "      <th>spread</th>\n",
              "    </tr>\n",
              "  </thead>\n",
              "  <tbody>\n",
              "    <tr>\n",
              "      <th>0</th>\n",
              "      <td>Bitcoin</td>\n",
              "      <td>2013-04-28</td>\n",
              "      <td>135.255145</td>\n",
              "      <td>135.986539</td>\n",
              "      <td>132.112308</td>\n",
              "      <td>134.233987</td>\n",
              "      <td>-0.102051</td>\n",
              "      <td>1.488567e+09</td>\n",
              "      <td>0.669039</td>\n",
              "      <td>3.817072</td>\n",
              "    </tr>\n",
              "    <tr>\n",
              "      <th>1</th>\n",
              "      <td>Bitcoin</td>\n",
              "      <td>2013-04-29</td>\n",
              "      <td>134.502146</td>\n",
              "      <td>147.594147</td>\n",
              "      <td>133.974345</td>\n",
              "      <td>144.426900</td>\n",
              "      <td>0.089815</td>\n",
              "      <td>1.603769e+09</td>\n",
              "      <td>0.812517</td>\n",
              "      <td>13.470633</td>\n",
              "    </tr>\n",
              "    <tr>\n",
              "      <th>2</th>\n",
              "      <td>Bitcoin</td>\n",
              "      <td>2013-04-30</td>\n",
              "      <td>144.034751</td>\n",
              "      <td>146.889644</td>\n",
              "      <td>134.002753</td>\n",
              "      <td>138.996846</td>\n",
              "      <td>0.003391</td>\n",
              "      <td>1.542813e+09</td>\n",
              "      <td>0.381134</td>\n",
              "      <td>13.022239</td>\n",
              "    </tr>\n",
              "    <tr>\n",
              "      <th>3</th>\n",
              "      <td>Bitcoin</td>\n",
              "      <td>2013-05-01</td>\n",
              "      <td>139.053026</td>\n",
              "      <td>139.927856</td>\n",
              "      <td>107.722048</td>\n",
              "      <td>117.097449</td>\n",
              "      <td>0.025182</td>\n",
              "      <td>1.298955e+09</td>\n",
              "      <td>0.346369</td>\n",
              "      <td>32.148365</td>\n",
              "    </tr>\n",
              "    <tr>\n",
              "      <th>4</th>\n",
              "      <td>Bitcoin</td>\n",
              "      <td>2013-05-02</td>\n",
              "      <td>116.372753</td>\n",
              "      <td>125.486945</td>\n",
              "      <td>92.185492</td>\n",
              "      <td>105.125030</td>\n",
              "      <td>-0.025268</td>\n",
              "      <td>1.168517e+09</td>\n",
              "      <td>0.538017</td>\n",
              "      <td>33.301740</td>\n",
              "    </tr>\n",
              "  </tbody>\n",
              "</table>\n",
              "</div>"
            ],
            "text/plain": [
              "      name       date        open  ...        market  close_ratio     spread\n",
              "0  Bitcoin 2013-04-28  135.255145  ...  1.488567e+09     0.669039   3.817072\n",
              "1  Bitcoin 2013-04-29  134.502146  ...  1.603769e+09     0.812517  13.470633\n",
              "2  Bitcoin 2013-04-30  144.034751  ...  1.542813e+09     0.381134  13.022239\n",
              "3  Bitcoin 2013-05-01  139.053026  ...  1.298955e+09     0.346369  32.148365\n",
              "4  Bitcoin 2013-05-02  116.372753  ...  1.168517e+09     0.538017  33.301740\n",
              "\n",
              "[5 rows x 10 columns]"
            ]
          },
          "metadata": {
            "tags": []
          },
          "execution_count": 13
        }
      ]
    },
    {
      "cell_type": "code",
      "metadata": {
        "id": "mYBkOgf6g1wL"
      },
      "source": [
        "#RUN TO TURN DATE DATA TO USABLE TYPE (INT)\n",
        "from datetime import datetime\n",
        "df.date=df.date.map(datetime.toordinal)"
      ],
      "execution_count": 14,
      "outputs": []
    },
    {
      "cell_type": "markdown",
      "metadata": {
        "id": "-rXCknO3WphB"
      },
      "source": [
        "You will now build the regression model."
      ]
    },
    {
      "cell_type": "markdown",
      "metadata": {
        "id": "Xb5vdjkLnrCL"
      },
      "source": [
        "\n",
        "\n",
        "\n",
        "#### Question 6: How many Bitcoin related cryptos are in the dataset?\n",
        "\n",
        " > _Hint_: Bitcoin related crypto currencies all start with \"Bitcoin\"\n",
        "\n",
        "\n"
      ]
    },
    {
      "cell_type": "code",
      "metadata": {
        "id": "BDW6nW5NPzGp",
        "colab": {
          "base_uri": "https://localhost:8080/",
          "height": 425
        },
        "outputId": "b9c50b24-6f08-45f6-c6b3-cbd700022982"
      },
      "source": [
        "#TODO: WRITE CODE TO GET ALL BITCOIN RELATED CRYPTO INTO A SEPARATE DATAFRAME\n",
        "#HINT: look up str.startswith\n",
        "\n",
        "bitcoin = df[df['name'].str.startswith('Bitcoin')].copy() #le copy évite un SettingwithCopyWarning\n",
        "print(\"nbr of bitcoins: \", len(bitcoin.name.unique()))\n",
        "bitcoin"
      ],
      "execution_count": 15,
      "outputs": [
        {
          "output_type": "stream",
          "text": [
            "nbr of bitcoins:  26\n"
          ],
          "name": "stdout"
        },
        {
          "output_type": "execute_result",
          "data": {
            "text/html": [
              "<div>\n",
              "<style scoped>\n",
              "    .dataframe tbody tr th:only-of-type {\n",
              "        vertical-align: middle;\n",
              "    }\n",
              "\n",
              "    .dataframe tbody tr th {\n",
              "        vertical-align: top;\n",
              "    }\n",
              "\n",
              "    .dataframe thead th {\n",
              "        text-align: right;\n",
              "    }\n",
              "</style>\n",
              "<table border=\"1\" class=\"dataframe\">\n",
              "  <thead>\n",
              "    <tr style=\"text-align: right;\">\n",
              "      <th></th>\n",
              "      <th>name</th>\n",
              "      <th>date</th>\n",
              "      <th>open</th>\n",
              "      <th>high</th>\n",
              "      <th>low</th>\n",
              "      <th>close</th>\n",
              "      <th>volume</th>\n",
              "      <th>market</th>\n",
              "      <th>close_ratio</th>\n",
              "      <th>spread</th>\n",
              "    </tr>\n",
              "  </thead>\n",
              "  <tbody>\n",
              "    <tr>\n",
              "      <th>0</th>\n",
              "      <td>Bitcoin</td>\n",
              "      <td>734986</td>\n",
              "      <td>135.255145</td>\n",
              "      <td>135.986539</td>\n",
              "      <td>132.112308</td>\n",
              "      <td>134.233987</td>\n",
              "      <td>-0.102051</td>\n",
              "      <td>1.488567e+09</td>\n",
              "      <td>0.669039</td>\n",
              "      <td>3.817072</td>\n",
              "    </tr>\n",
              "    <tr>\n",
              "      <th>1</th>\n",
              "      <td>Bitcoin</td>\n",
              "      <td>734987</td>\n",
              "      <td>134.502146</td>\n",
              "      <td>147.594147</td>\n",
              "      <td>133.974345</td>\n",
              "      <td>144.426900</td>\n",
              "      <td>0.089815</td>\n",
              "      <td>1.603769e+09</td>\n",
              "      <td>0.812517</td>\n",
              "      <td>13.470633</td>\n",
              "    </tr>\n",
              "    <tr>\n",
              "      <th>2</th>\n",
              "      <td>Bitcoin</td>\n",
              "      <td>734988</td>\n",
              "      <td>144.034751</td>\n",
              "      <td>146.889644</td>\n",
              "      <td>134.002753</td>\n",
              "      <td>138.996846</td>\n",
              "      <td>0.003391</td>\n",
              "      <td>1.542813e+09</td>\n",
              "      <td>0.381134</td>\n",
              "      <td>13.022239</td>\n",
              "    </tr>\n",
              "    <tr>\n",
              "      <th>3</th>\n",
              "      <td>Bitcoin</td>\n",
              "      <td>734989</td>\n",
              "      <td>139.053026</td>\n",
              "      <td>139.927856</td>\n",
              "      <td>107.722048</td>\n",
              "      <td>117.097449</td>\n",
              "      <td>0.025182</td>\n",
              "      <td>1.298955e+09</td>\n",
              "      <td>0.346369</td>\n",
              "      <td>32.148365</td>\n",
              "    </tr>\n",
              "    <tr>\n",
              "      <th>4</th>\n",
              "      <td>Bitcoin</td>\n",
              "      <td>734990</td>\n",
              "      <td>116.372753</td>\n",
              "      <td>125.486945</td>\n",
              "      <td>92.185492</td>\n",
              "      <td>105.125030</td>\n",
              "      <td>-0.025268</td>\n",
              "      <td>1.168517e+09</td>\n",
              "      <td>0.538017</td>\n",
              "      <td>33.301740</td>\n",
              "    </tr>\n",
              "    <tr>\n",
              "      <th>...</th>\n",
              "      <td>...</td>\n",
              "      <td>...</td>\n",
              "      <td>...</td>\n",
              "      <td>...</td>\n",
              "      <td>...</td>\n",
              "      <td>...</td>\n",
              "      <td>...</td>\n",
              "      <td>...</td>\n",
              "      <td>...</td>\n",
              "      <td>...</td>\n",
              "    </tr>\n",
              "    <tr>\n",
              "      <th>30236</th>\n",
              "      <td>Bitcoin God</td>\n",
              "      <td>737023</td>\n",
              "      <td>11.178101</td>\n",
              "      <td>11.249703</td>\n",
              "      <td>9.387478</td>\n",
              "      <td>9.448743</td>\n",
              "      <td>818.083987</td>\n",
              "      <td>1.271032e-01</td>\n",
              "      <td>0.184455</td>\n",
              "      <td>1.692106</td>\n",
              "    </tr>\n",
              "    <tr>\n",
              "      <th>30237</th>\n",
              "      <td>Bitcoin God</td>\n",
              "      <td>737024</td>\n",
              "      <td>9.349067</td>\n",
              "      <td>9.776571</td>\n",
              "      <td>7.038651</td>\n",
              "      <td>8.851681</td>\n",
              "      <td>2028.001762</td>\n",
              "      <td>-3.974333e-02</td>\n",
              "      <td>0.535468</td>\n",
              "      <td>2.699147</td>\n",
              "    </tr>\n",
              "    <tr>\n",
              "      <th>30238</th>\n",
              "      <td>Bitcoin God</td>\n",
              "      <td>737025</td>\n",
              "      <td>8.947704</td>\n",
              "      <td>12.663321</td>\n",
              "      <td>8.660172</td>\n",
              "      <td>12.666721</td>\n",
              "      <td>222.952552</td>\n",
              "      <td>-1.066687e-02</td>\n",
              "      <td>0.829474</td>\n",
              "      <td>4.054052</td>\n",
              "    </tr>\n",
              "    <tr>\n",
              "      <th>30239</th>\n",
              "      <td>Bitcoin God</td>\n",
              "      <td>737026</td>\n",
              "      <td>12.362739</td>\n",
              "      <td>12.427160</td>\n",
              "      <td>9.051561</td>\n",
              "      <td>9.932116</td>\n",
              "      <td>1521.849560</td>\n",
              "      <td>-3.016509e-02</td>\n",
              "      <td>0.120363</td>\n",
              "      <td>3.729621</td>\n",
              "    </tr>\n",
              "    <tr>\n",
              "      <th>30240</th>\n",
              "      <td>Bitcoin God</td>\n",
              "      <td>737027</td>\n",
              "      <td>9.983345</td>\n",
              "      <td>11.201801</td>\n",
              "      <td>9.250534</td>\n",
              "      <td>11.406591</td>\n",
              "      <td>331.919174</td>\n",
              "      <td>-6.953835e-02</td>\n",
              "      <td>0.781034</td>\n",
              "      <td>2.082217</td>\n",
              "    </tr>\n",
              "  </tbody>\n",
              "</table>\n",
              "<p>12509 rows × 10 columns</p>\n",
              "</div>"
            ],
            "text/plain": [
              "              name    date        open  ...        market  close_ratio     spread\n",
              "0          Bitcoin  734986  135.255145  ...  1.488567e+09     0.669039   3.817072\n",
              "1          Bitcoin  734987  134.502146  ...  1.603769e+09     0.812517  13.470633\n",
              "2          Bitcoin  734988  144.034751  ...  1.542813e+09     0.381134  13.022239\n",
              "3          Bitcoin  734989  139.053026  ...  1.298955e+09     0.346369  32.148365\n",
              "4          Bitcoin  734990  116.372753  ...  1.168517e+09     0.538017  33.301740\n",
              "...            ...     ...         ...  ...           ...          ...        ...\n",
              "30236  Bitcoin God  737023   11.178101  ...  1.271032e-01     0.184455   1.692106\n",
              "30237  Bitcoin God  737024    9.349067  ... -3.974333e-02     0.535468   2.699147\n",
              "30238  Bitcoin God  737025    8.947704  ... -1.066687e-02     0.829474   4.054052\n",
              "30239  Bitcoin God  737026   12.362739  ... -3.016509e-02     0.120363   3.729621\n",
              "30240  Bitcoin God  737027    9.983345  ... -6.953835e-02     0.781034   2.082217\n",
              "\n",
              "[12509 rows x 10 columns]"
            ]
          },
          "metadata": {
            "tags": []
          },
          "execution_count": 15
        }
      ]
    },
    {
      "cell_type": "code",
      "metadata": {
        "id": "oI7tncDVF249",
        "colab": {
          "base_uri": "https://localhost:8080/"
        },
        "outputId": "78991bf7-d03b-4906-edca-cd4785f2b8d6"
      },
      "source": [
        "'''\n",
        "# Test pour savoir s'il y a plusieurs type de Bitcoin (car c'est pas clair dans la donnée)\n",
        "test = bitcoin[(bitcoin['name'] == 'Bitcoin')]\n",
        "print('1 ', df.shape)\n",
        "print('bitcoin ', bitcoin.shape)\n",
        "print('test', test.shape)\n",
        "'''\n",
        " \n",
        "#MODIFICATION 29th of April 3 00:PM\n",
        " \n",
        "#TODO: WRITE CODE TO SELECT FEATURES OF INTEREST IN THE DATA SET AND APPLY APPROPRIATE TRANSFORMATION\n",
        " \n",
        "#--------------------------------------------------------------------------------\n",
        "bitcoin.dropna(inplace=True)\n",
        "#-------------------------------------------------------------------------------\n",
        "#HINT: use DataFrame indexing, look up the functions  .get_dummies \n",
        "bitcoin2 = pd.get_dummies(bitcoin, columns=['name'])\n",
        "#bitcoin2.loc[:, bitcoin2.columns.str.startswith('name')] = bitcoin2.loc[:, bitcoin2.columns.str.startswith('name')].astype(int)\n",
        "#-------------------------------------------------------------------------------\n",
        "#DATAFRAME WITH THE INDEPENDENT VARIABLES\n",
        "#DATAFRAME WITH THE DEPENDENT VARIABLE\n",
        "X = bitcoin2[['date', 'open','high','low','market','volume','spread']] # missing names\n",
        "X_temp = bitcoin2.loc[:, bitcoin2.columns.str.startswith('name')] #only names\n",
        "X = pd.concat([X, X_temp], axis=1) #Put them together yay\n",
        "y = bitcoin2['close']\n",
        " \n",
        "print(X.shape)\n",
        "print(y.shape)"
      ],
      "execution_count": 16,
      "outputs": [
        {
          "output_type": "stream",
          "text": [
            "(12509, 33)\n",
            "(12509,)\n"
          ],
          "name": "stdout"
        }
      ]
    },
    {
      "cell_type": "markdown",
      "metadata": {
        "id": "0BVTV_ZVn4ni"
      },
      "source": [
        "\n",
        "#### Question 7: How many rows and columns does the test set contain? (only independent variables)\n",
        ">You will have to split the data set into training and testing set with respective relative proportion of **70% and 30%** to first train your model and then assess its accuracy.\n",
        ">\n",
        "> You should shuffle your data set when splitting to render your reproduction more robust. Use **`random_state = 42`**\n",
        ">\n",
        "> Since features will not be on the same scale, you should standardize your data before modeling using a **StandardScaler**\n",
        ">\n",
        ">_Hint_: use the class sklearn.preprocessing\n",
        " \n",
        "\n"
      ]
    },
    {
      "cell_type": "code",
      "metadata": {
        "id": "v13QHjkM_UaI",
        "colab": {
          "base_uri": "https://localhost:8080/",
          "height": 72
        },
        "outputId": "61d0d5f8-5bfc-4e1b-eaa9-5b5d30b167c5"
      },
      "source": [
        "#TODO: CODE TO SPLIT DATA SET IN TRAIN AND TEST, RANDOM SHUFFLING\n",
        "#HINT: look up the function model_selection.train_test_split, preprocessing.StandardScaler\n",
        "from sklearn.model_selection import train_test_split\n",
        "from sklearn.preprocessing import StandardScaler\n",
        "\n",
        "#print(bitcoin.dtypes)\n",
        "\n",
        "x_train, x_test, y_train, y_test = train_test_split(X, y, test_size = 0.3, random_state = 42, shuffle = True)\n",
        "print(\"How many rows and columns does the test set contain? (only independent variables) --> \", x_test.shape)\n",
        "print(x_test.shape)\n",
        "\n",
        "ss = StandardScaler()\n",
        "x_train = ss.fit_transform(x_train)\n",
        "x_test = ss.transform(x_test) # ss keeps info of the fit above, not do another fit to keep coherence\n",
        "'''\n",
        "ss.fit(x_train, y_train)\n",
        "x_train = ss.transform(x_train)\n",
        "x_test == ss.transform(x_test)\n",
        "'''"
      ],
      "execution_count": 17,
      "outputs": [
        {
          "output_type": "stream",
          "text": [
            "How many rows and columns does the test set contain? (only independent variables) -->  (3753, 33)\n",
            "(3753, 33)\n"
          ],
          "name": "stdout"
        },
        {
          "output_type": "execute_result",
          "data": {
            "application/vnd.google.colaboratory.intrinsic+json": {
              "type": "string"
            },
            "text/plain": [
              "'\\nss.fit(x_train, y_train)\\nx_train = ss.transform(x_train)\\nx_test == ss.transform(x_test)\\n'"
            ]
          },
          "metadata": {
            "tags": []
          },
          "execution_count": 17
        }
      ]
    },
    {
      "cell_type": "markdown",
      "metadata": {
        "id": "xLCPCZLboFB-"
      },
      "source": [
        " \n",
        "#### Question 8: What is the mean squared error of your linear model on the standardized test set? (round to 2 decimals)\n",
        "\n",
        "  >  You should also pay attention to the types of your variables some are categorical and others are not even numbers. \n",
        "  >\n",
        "  > _Hint_: there are categorical features among these attributes. You need to encode them with one-hot encoding first. Use the get_dummies function.\n",
        "\n",
        "#### Question 9: What is the mean absolute error of your linear model on the standardized test set? (round to 2 decimals)\n",
        "  > _Hint_: use the classes sklearn.train_test_split, sklearn.linear_model.LinearRegression._, and sklearn.metrics"
      ]
    },
    {
      "cell_type": "code",
      "metadata": {
        "id": "e2PfynqzE536",
        "colab": {
          "base_uri": "https://localhost:8080/"
        },
        "outputId": "eb2e8ebb-c8c7-4817-8f16-292adfda6f0f"
      },
      "source": [
        "#TODO: CODE TO COMPUTE LINEAR MODEL AND ACCURACY METRICS\n",
        "#HINT: Look up linear_model,metrics.mean_squared_error,metrics.mean_absolute_error\n",
        " \n",
        "#---Create linear regression object\n",
        "from sklearn.linear_model import LinearRegression\n",
        "from sklearn.metrics import mean_squared_error, r2_score, mean_absolute_error\n",
        "lr = LinearRegression()\n",
        " \n",
        "#---Train the model using the training sets\n",
        "#lr = lr.fit(x_train, y_train) #returns itself, need to be attributed as it returns a value\n",
        "lr.fit(x_train, y_train) \n",
        " \n",
        "#---Make predictions using the testing set\n",
        "predictions = lr.predict(x_test)\n",
        "#print(\"predictioooooon\", predictions)\n",
        " \n",
        "#---The coefficients\n",
        "print(\"Intercept (slope): \", lr.intercept_) \n",
        "print(\"Features coefficients (weigths): \", lr.coef_)\n",
        " \n",
        "#---The mean squared error\n",
        "mse = mean_squared_error(y_test, predictions)\n",
        "print('mean sqared error: ----->  %.2f' % mse)\n",
        " \n",
        "#---The mean absoluuuuute error\n",
        "mae = mean_absolute_error(y_test, predictions)\n",
        "print('mean absolute error: ----->  %.2f' % mae)\n",
        " \n",
        "#---The coefficient of determination: 1 is perfect prediction\n",
        "r2 = r2_score(y_test, predictions)\n",
        "print('R^2: ------> %.2f' % r2)"
      ],
      "execution_count": 18,
      "outputs": [
        {
          "output_type": "stream",
          "text": [
            "Intercept (slope):  418.72967028013056\n",
            "Features coefficients (weigths):  [-2.23939273e+00 -4.92623406e+02  2.26267622e+03 -7.24022252e+02\n",
            "  6.82989877e+02 -1.67653661e+01 -1.07230312e+02  1.66593144e+13\n",
            "  1.13907228e+13  3.55658846e+12  7.12293392e+12  8.75792152e+12\n",
            "  7.56959744e+12  1.42743750e+13  4.36205769e+12  7.18428509e+12\n",
            "  7.90662022e+12  6.21137269e+12  3.95168254e+12  5.78365936e+12\n",
            "  9.32062444e+12  1.50466629e+13  6.38772666e+12  7.94760857e+12\n",
            "  1.98163204e+12  1.48966065e+13  4.38800348e+12  3.89358394e+12\n",
            "  2.14901277e+12  2.35358653e+12  7.65543072e+12  8.09587261e+12\n",
            "  2.75840221e+12]\n",
            "mean sqared error: ----->  643.16\n",
            "mean absolute error: ----->  8.57\n",
            "R^2: ------> 1.00\n"
          ],
          "name": "stdout"
        }
      ]
    },
    {
      "cell_type": "markdown",
      "metadata": {
        "id": "pBqXXhU9YVJs"
      },
      "source": [
        "### Part 3 - kNN Classifier \n",
        "Now, for the remaining part of the assignment, you are going to be building a kNN classifier on a bank records of credit card users. The name of each column of data is self-explanatory regarding the content of that field. The purpose of this part is to identify customer segments and be able to predict the average income group of a given user. \n",
        "\n",
        "\n",
        "**Task:** Build a kNN classifier for the **Income_Category** based on all features **except**:\n",
        "\n",
        "`[CustomerID,Income_Category,Marital_Status,Education_Level]`\n",
        "\n",
        "and test various values of k between 1 and 20 to find the most suiting one. \n",
        "  \n",
        "In a first step, as always, load the dataset and display the first few rows.\n",
        "\n"
      ]
    },
    {
      "cell_type": "code",
      "metadata": {
        "id": "0mofpYtGG69E",
        "colab": {
          "base_uri": "https://localhost:8080/",
          "height": 218
        },
        "outputId": "c0eab31c-7e13-4e0f-9a41-54e977343658"
      },
      "source": [
        "#TODO: RUN THE CELL TO FETCH DATA AND START WORKING \n",
        "from sklearn.preprocessing import MinMaxScaler # Normalization\n",
        "from sklearn.linear_model import LinearRegression # Regression linear model\n",
        "from sklearn.model_selection import train_test_split # Splitting the data set\n",
        "from sklearn.preprocessing import LabelEncoder #1-hot encoding\n",
        "from sklearn.preprocessing import OneHotEncoder # Label encoding\n",
        "from sklearn.metrics import mean_squared_error, mean_absolute_error, r2_score # Metrics for errors\n",
        "from sklearn.model_selection import KFold\n",
        "from sklearn import preprocessing\n",
        "from sklearn.neighbors import KNeighborsClassifier\n",
        "from sklearn.metrics import confusion_matrix\n",
        "\n",
        "\n",
        "\n",
        "url = 'https://storage.googleapis.com/unil_bia/BankChurners.csv'\n",
        "df = pd.read_csv(url).drop('CustomerID.1', axis = 'columns')\n",
        "df.head()"
      ],
      "execution_count": 19,
      "outputs": [
        {
          "output_type": "execute_result",
          "data": {
            "text/html": [
              "<div>\n",
              "<style scoped>\n",
              "    .dataframe tbody tr th:only-of-type {\n",
              "        vertical-align: middle;\n",
              "    }\n",
              "\n",
              "    .dataframe tbody tr th {\n",
              "        vertical-align: top;\n",
              "    }\n",
              "\n",
              "    .dataframe thead th {\n",
              "        text-align: right;\n",
              "    }\n",
              "</style>\n",
              "<table border=\"1\" class=\"dataframe\">\n",
              "  <thead>\n",
              "    <tr style=\"text-align: right;\">\n",
              "      <th></th>\n",
              "      <th>CustomerID</th>\n",
              "      <th>Customer_Age</th>\n",
              "      <th>Gender</th>\n",
              "      <th>Dependent_count</th>\n",
              "      <th>Education_Level</th>\n",
              "      <th>Marital_Status</th>\n",
              "      <th>Income_Category</th>\n",
              "      <th>Months_on_book</th>\n",
              "      <th>Total_Relationship_Count</th>\n",
              "      <th>Months_Inactive_12_mon</th>\n",
              "      <th>Contacts_Count_12_mon</th>\n",
              "      <th>Credit_Limit</th>\n",
              "      <th>Total_Revolving_Bal</th>\n",
              "      <th>Avg_Open_To_Buy</th>\n",
              "      <th>Total_Amt_Chng_Q4_Q1</th>\n",
              "      <th>Total_Trans_Amt</th>\n",
              "      <th>Total_Trans_Ct</th>\n",
              "      <th>Total_Ct_Chng_Q4_Q1</th>\n",
              "      <th>Avg_Utilization_Ratio</th>\n",
              "    </tr>\n",
              "  </thead>\n",
              "  <tbody>\n",
              "    <tr>\n",
              "      <th>0</th>\n",
              "      <td>77893100</td>\n",
              "      <td>49</td>\n",
              "      <td>M</td>\n",
              "      <td>2</td>\n",
              "      <td>High School</td>\n",
              "      <td>Single</td>\n",
              "      <td>$120K +</td>\n",
              "      <td>42</td>\n",
              "      <td>3</td>\n",
              "      <td>2</td>\n",
              "      <td>4</td>\n",
              "      <td>21143.988680</td>\n",
              "      <td>1190</td>\n",
              "      <td>19954.007404</td>\n",
              "      <td>0.495259</td>\n",
              "      <td>4895</td>\n",
              "      <td>66</td>\n",
              "      <td>0.778160</td>\n",
              "      <td>0.064341</td>\n",
              "    </tr>\n",
              "    <tr>\n",
              "      <th>1</th>\n",
              "      <td>77906340</td>\n",
              "      <td>42</td>\n",
              "      <td>F</td>\n",
              "      <td>4</td>\n",
              "      <td>Graduate</td>\n",
              "      <td>Single</td>\n",
              "      <td>Less than $40K</td>\n",
              "      <td>34</td>\n",
              "      <td>3</td>\n",
              "      <td>2</td>\n",
              "      <td>3</td>\n",
              "      <td>1853.010829</td>\n",
              "      <td>0</td>\n",
              "      <td>1852.985549</td>\n",
              "      <td>0.853042</td>\n",
              "      <td>4544</td>\n",
              "      <td>72</td>\n",
              "      <td>0.538390</td>\n",
              "      <td>-0.000950</td>\n",
              "    </tr>\n",
              "    <tr>\n",
              "      <th>2</th>\n",
              "      <td>77896672</td>\n",
              "      <td>53</td>\n",
              "      <td>F</td>\n",
              "      <td>5</td>\n",
              "      <td>Graduate</td>\n",
              "      <td>Single</td>\n",
              "      <td>$40K - $60K</td>\n",
              "      <td>41</td>\n",
              "      <td>2</td>\n",
              "      <td>1</td>\n",
              "      <td>3</td>\n",
              "      <td>9815.011727</td>\n",
              "      <td>1699</td>\n",
              "      <td>8116.013344</td>\n",
              "      <td>0.630096</td>\n",
              "      <td>7962</td>\n",
              "      <td>89</td>\n",
              "      <td>0.571813</td>\n",
              "      <td>0.182933</td>\n",
              "    </tr>\n",
              "    <tr>\n",
              "      <th>3</th>\n",
              "      <td>77907011</td>\n",
              "      <td>63</td>\n",
              "      <td>F</td>\n",
              "      <td>0</td>\n",
              "      <td>High School</td>\n",
              "      <td>Married</td>\n",
              "      <td>Less than $40K</td>\n",
              "      <td>53</td>\n",
              "      <td>5</td>\n",
              "      <td>3</td>\n",
              "      <td>2</td>\n",
              "      <td>2270.990406</td>\n",
              "      <td>1278</td>\n",
              "      <td>992.989510</td>\n",
              "      <td>0.372988</td>\n",
              "      <td>1550</td>\n",
              "      <td>33</td>\n",
              "      <td>0.666323</td>\n",
              "      <td>0.534439</td>\n",
              "    </tr>\n",
              "    <tr>\n",
              "      <th>4</th>\n",
              "      <td>77899573</td>\n",
              "      <td>51</td>\n",
              "      <td>M</td>\n",
              "      <td>1</td>\n",
              "      <td>Unknown</td>\n",
              "      <td>Single</td>\n",
              "      <td>$60K - $80K</td>\n",
              "      <td>22</td>\n",
              "      <td>2</td>\n",
              "      <td>3</td>\n",
              "      <td>3</td>\n",
              "      <td>4248.012193</td>\n",
              "      <td>1177</td>\n",
              "      <td>3071.015918</td>\n",
              "      <td>0.828221</td>\n",
              "      <td>13958</td>\n",
              "      <td>116</td>\n",
              "      <td>0.784340</td>\n",
              "      <td>0.294722</td>\n",
              "    </tr>\n",
              "  </tbody>\n",
              "</table>\n",
              "</div>"
            ],
            "text/plain": [
              "   CustomerID  Customer_Age  ... Total_Ct_Chng_Q4_Q1  Avg_Utilization_Ratio\n",
              "0    77893100            49  ...            0.778160               0.064341\n",
              "1    77906340            42  ...            0.538390              -0.000950\n",
              "2    77896672            53  ...            0.571813               0.182933\n",
              "3    77907011            63  ...            0.666323               0.534439\n",
              "4    77899573            51  ...            0.784340               0.294722\n",
              "\n",
              "[5 rows x 19 columns]"
            ]
          },
          "metadata": {
            "tags": []
          },
          "execution_count": 19
        }
      ]
    },
    {
      "cell_type": "code",
      "metadata": {
        "id": "-y8HL5PN1PUQ"
      },
      "source": [
        "#Updated on May 12th\n",
        "#TODO: CODE TO DO THE LABEL ENCODING HERE\n",
        "#Note that the label encoding will turn ['$120K +', 'Less than $40K', '$40K - $60K', '$60K - $80K','Unknown', '$80K - $120K'] into [0, 4, 1, 2, 5, 3] in that order\n",
        "#This means that '$120K +' becomes 0, 'Less than $40K' becomes 4, etc.\n",
        "#HINT: look up preprocessing.LabelEncoder()\n",
        "X = df.drop(['CustomerID','Income_Category','Marital_Status','Education_Level'], axis=1)\n",
        "y = df[['Income_Category']]\n",
        "\n",
        "y_label = y.apply(preprocessing.LabelEncoder().fit_transform)"
      ],
      "execution_count": 20,
      "outputs": []
    },
    {
      "cell_type": "markdown",
      "metadata": {
        "id": "eABulYwm64IZ"
      },
      "source": [
        "You will now build the model."
      ]
    },
    {
      "cell_type": "code",
      "metadata": {
        "id": "5PgXhxAG4sHg"
      },
      "source": [
        "#TODO: CODE TO COMPUTE THE FEATURES OF INTEREST IN THE DATA SET \n",
        "#HINT: use DataFrame indexing, look up the functions .get_dummies\n",
        "#X['Gender'] = X['Gender'].replace(['M', 'F'], [0,1])\n",
        "X = pd.get_dummies(X, columns=['Gender'])\n"
      ],
      "execution_count": 21,
      "outputs": []
    },
    {
      "cell_type": "code",
      "metadata": {
        "id": "E3ILMHJ3S7YN",
        "colab": {
          "base_uri": "https://localhost:8080/",
          "height": 218
        },
        "outputId": "6e449b72-7c7e-403e-b9fa-0e296c5ba02f"
      },
      "source": [
        "X.head()"
      ],
      "execution_count": 22,
      "outputs": [
        {
          "output_type": "execute_result",
          "data": {
            "text/html": [
              "<div>\n",
              "<style scoped>\n",
              "    .dataframe tbody tr th:only-of-type {\n",
              "        vertical-align: middle;\n",
              "    }\n",
              "\n",
              "    .dataframe tbody tr th {\n",
              "        vertical-align: top;\n",
              "    }\n",
              "\n",
              "    .dataframe thead th {\n",
              "        text-align: right;\n",
              "    }\n",
              "</style>\n",
              "<table border=\"1\" class=\"dataframe\">\n",
              "  <thead>\n",
              "    <tr style=\"text-align: right;\">\n",
              "      <th></th>\n",
              "      <th>Customer_Age</th>\n",
              "      <th>Dependent_count</th>\n",
              "      <th>Months_on_book</th>\n",
              "      <th>Total_Relationship_Count</th>\n",
              "      <th>Months_Inactive_12_mon</th>\n",
              "      <th>Contacts_Count_12_mon</th>\n",
              "      <th>Credit_Limit</th>\n",
              "      <th>Total_Revolving_Bal</th>\n",
              "      <th>Avg_Open_To_Buy</th>\n",
              "      <th>Total_Amt_Chng_Q4_Q1</th>\n",
              "      <th>Total_Trans_Amt</th>\n",
              "      <th>Total_Trans_Ct</th>\n",
              "      <th>Total_Ct_Chng_Q4_Q1</th>\n",
              "      <th>Avg_Utilization_Ratio</th>\n",
              "      <th>Gender_F</th>\n",
              "      <th>Gender_M</th>\n",
              "    </tr>\n",
              "  </thead>\n",
              "  <tbody>\n",
              "    <tr>\n",
              "      <th>0</th>\n",
              "      <td>49</td>\n",
              "      <td>2</td>\n",
              "      <td>42</td>\n",
              "      <td>3</td>\n",
              "      <td>2</td>\n",
              "      <td>4</td>\n",
              "      <td>21143.988680</td>\n",
              "      <td>1190</td>\n",
              "      <td>19954.007404</td>\n",
              "      <td>0.495259</td>\n",
              "      <td>4895</td>\n",
              "      <td>66</td>\n",
              "      <td>0.778160</td>\n",
              "      <td>0.064341</td>\n",
              "      <td>0</td>\n",
              "      <td>1</td>\n",
              "    </tr>\n",
              "    <tr>\n",
              "      <th>1</th>\n",
              "      <td>42</td>\n",
              "      <td>4</td>\n",
              "      <td>34</td>\n",
              "      <td>3</td>\n",
              "      <td>2</td>\n",
              "      <td>3</td>\n",
              "      <td>1853.010829</td>\n",
              "      <td>0</td>\n",
              "      <td>1852.985549</td>\n",
              "      <td>0.853042</td>\n",
              "      <td>4544</td>\n",
              "      <td>72</td>\n",
              "      <td>0.538390</td>\n",
              "      <td>-0.000950</td>\n",
              "      <td>1</td>\n",
              "      <td>0</td>\n",
              "    </tr>\n",
              "    <tr>\n",
              "      <th>2</th>\n",
              "      <td>53</td>\n",
              "      <td>5</td>\n",
              "      <td>41</td>\n",
              "      <td>2</td>\n",
              "      <td>1</td>\n",
              "      <td>3</td>\n",
              "      <td>9815.011727</td>\n",
              "      <td>1699</td>\n",
              "      <td>8116.013344</td>\n",
              "      <td>0.630096</td>\n",
              "      <td>7962</td>\n",
              "      <td>89</td>\n",
              "      <td>0.571813</td>\n",
              "      <td>0.182933</td>\n",
              "      <td>1</td>\n",
              "      <td>0</td>\n",
              "    </tr>\n",
              "    <tr>\n",
              "      <th>3</th>\n",
              "      <td>63</td>\n",
              "      <td>0</td>\n",
              "      <td>53</td>\n",
              "      <td>5</td>\n",
              "      <td>3</td>\n",
              "      <td>2</td>\n",
              "      <td>2270.990406</td>\n",
              "      <td>1278</td>\n",
              "      <td>992.989510</td>\n",
              "      <td>0.372988</td>\n",
              "      <td>1550</td>\n",
              "      <td>33</td>\n",
              "      <td>0.666323</td>\n",
              "      <td>0.534439</td>\n",
              "      <td>1</td>\n",
              "      <td>0</td>\n",
              "    </tr>\n",
              "    <tr>\n",
              "      <th>4</th>\n",
              "      <td>51</td>\n",
              "      <td>1</td>\n",
              "      <td>22</td>\n",
              "      <td>2</td>\n",
              "      <td>3</td>\n",
              "      <td>3</td>\n",
              "      <td>4248.012193</td>\n",
              "      <td>1177</td>\n",
              "      <td>3071.015918</td>\n",
              "      <td>0.828221</td>\n",
              "      <td>13958</td>\n",
              "      <td>116</td>\n",
              "      <td>0.784340</td>\n",
              "      <td>0.294722</td>\n",
              "      <td>0</td>\n",
              "      <td>1</td>\n",
              "    </tr>\n",
              "  </tbody>\n",
              "</table>\n",
              "</div>"
            ],
            "text/plain": [
              "   Customer_Age  Dependent_count  ...  Gender_F  Gender_M\n",
              "0            49                2  ...         0         1\n",
              "1            42                4  ...         1         0\n",
              "2            53                5  ...         1         0\n",
              "3            63                0  ...         1         0\n",
              "4            51                1  ...         0         1\n",
              "\n",
              "[5 rows x 16 columns]"
            ]
          },
          "metadata": {
            "tags": []
          },
          "execution_count": 22
        }
      ]
    },
    {
      "cell_type": "markdown",
      "metadata": {
        "id": "k8t9MjC8oTLp"
      },
      "source": [
        "#### Question 10: How many rows and columns does the test set contain? (only independent variables)\n",
        "> You will have to split the data set into a training and testing set with respective  relative proportion of **70% and 30%** to first train your model and then assess its accuracy.\n",
        ">\n",
        "> You should shuffle your data set when splitting to render your reproduction more robust. Use **`random_state = 42`**\n",
        "\n",
        "\n"
      ]
    },
    {
      "cell_type": "code",
      "metadata": {
        "id": "U8KAeLw65NOX",
        "colab": {
          "base_uri": "https://localhost:8080/"
        },
        "outputId": "c4dabd5a-2b08-4c1c-822b-49172a5dbe6a"
      },
      "source": [
        "#TODO: CODE TO SPLIT DATA SET IN TRAIN AND TEST, RANDOM SHUFFLING\n",
        "#HINT: look up the functions model_selection.train_test_split and preprocessing.MinMaxScaler\n",
        "\n",
        "x_train, x_test, y_train, y_test = train_test_split(X, y_label, test_size = 0.3, random_state=42, shuffle = True)\n",
        "\n",
        "scaler = MinMaxScaler()\n",
        "scaler.fit(x_train, y_train)\n",
        "x_train = scaler.transform(x_train)\n",
        "x_test = scaler.transform(x_test)\n",
        "print('How many rows and columns does the test set contain? (only independent variables) ----> ', x_test.shape)\n"
      ],
      "execution_count": 23,
      "outputs": [
        {
          "output_type": "stream",
          "text": [
            "How many rows and columns does the test set contain? (only independent variables) ---->  (6410, 16)\n"
          ],
          "name": "stdout"
        }
      ]
    },
    {
      "cell_type": "markdown",
      "metadata": {
        "id": "-OuEusiioWta"
      },
      "source": [
        "\n",
        "#### Question 11: What k maximizes the accuracy_score on the minmax scaled test set? Test for k between 1 and 20.\n",
        "  > You should also pay attention to the types of your variables some are categorical and others are not even figures. \n",
        "  >\n",
        "  >_Hint_: there are categorical features among these attributes. You need to encode them with one-hot encoding first. Use the get_dummies function.\n",
        "  >\n",
        "  > You will have to encode you target feature to use it to build you classifier\n",
        ">\n",
        "  > As the scale in the features is different, you should standardize your data with a **MinMax** scaler to before using it. In fact when calculating the distances, you don't kNN to focus on larger scale dimensions. \n",
        ">\n",
        "  >_Hint_  : use the class sklearn.preprocessing\n",
        "\n",
        "#### Question 12: What is the accuracy for the optimal k on the minmax scaled test set? (round to 2 decimals)\n",
        "  >_Hint_: use the classes sklearn.train_test_split, sklearn.neighbors.KNeighborsClassifier, sklearn.preprocessing.LabelEncoder, and sklearn.metrics\n",
        "\n"
      ]
    },
    {
      "cell_type": "code",
      "metadata": {
        "id": "gF_UwO0T6Kb4",
        "colab": {
          "base_uri": "https://localhost:8080/"
        },
        "outputId": "cc385f73-c2c3-4d66-b87b-9d198528f360"
      },
      "source": [
        "#TODO: CODE TO COMPUTE LINEAR MODEL AND ACCURACY METRICS\n",
        "#HINT: Look up KNeighborsClassifier and metrics.accuracy_score\n",
        "k=[]\n",
        "for z in range(1, 21):\n",
        "  k.append(z)\n",
        "\n",
        "for i in k:\n",
        "  model = KNeighborsClassifier(n_neighbors=i)\n",
        "  model.fit(x_train, y_train.values.ravel())\n",
        "  score = model.score(x_test, y_test)\n",
        "  print(\"accuracy for k = \" + str(i) + \" : \" + str(score))\n"
      ],
      "execution_count": 24,
      "outputs": [
        {
          "output_type": "stream",
          "text": [
            "accuracy for k = 1 : 0.8728549141965679\n",
            "accuracy for k = 2 : 0.773634945397816\n",
            "accuracy for k = 3 : 0.719188767550702\n",
            "accuracy for k = 4 : 0.6569422776911077\n",
            "accuracy for k = 5 : 0.6271450858034321\n",
            "accuracy for k = 6 : 0.5921996879875195\n",
            "accuracy for k = 7 : 0.5741029641185648\n",
            "accuracy for k = 8 : 0.5519500780031201\n",
            "accuracy for k = 9 : 0.5438377535101404\n",
            "accuracy for k = 10 : 0.5290171606864275\n",
            "accuracy for k = 11 : 0.5274570982839314\n",
            "accuracy for k = 12 : 0.5213728549141966\n",
            "accuracy for k = 13 : 0.5170046801872075\n",
            "accuracy for k = 14 : 0.5084243369734789\n",
            "accuracy for k = 15 : 0.5087363494539782\n",
            "accuracy for k = 16 : 0.5065522620904837\n",
            "accuracy for k = 17 : 0.4995319812792512\n",
            "accuracy for k = 18 : 0.49375975039001563\n",
            "accuracy for k = 19 : 0.48954758190327613\n",
            "accuracy for k = 20 : 0.48985959438377535\n"
          ],
          "name": "stdout"
        }
      ]
    },
    {
      "cell_type": "code",
      "metadata": {
        "id": "Kcl45yJFTglv",
        "colab": {
          "base_uri": "https://localhost:8080/",
          "height": 372
        },
        "outputId": "874c4786-7e82-4ef4-88e1-f6c33e4f1d27"
      },
      "source": [
        " #TODO: CODE FOR VISUALIZATION OF K VERSUS ACCURACY\n",
        "model = KNeighborsClassifier(1)\n",
        "model.fit(x_train, y_train)\n",
        "\n",
        "#Decision boundaries ,\n",
        "import numpy as np\n",
        "import matplotlib.pyplot as plt\n",
        "from sklearn.linear_model import LogisticRegression\n",
        "\n",
        "'''\n",
        "plt.plot(k, acc)\n",
        "plt.show()\n",
        "\n",
        "'''\n",
        "X_plot = X[['Credit_Limit', 'Customer_Age']]\n",
        "model2 = LogisticRegression(max_iter=1000)\n",
        "model2.fit(X_plot, y_label)\n",
        "\n",
        "plt.scatter(X_plot['Credit_Limit'], X_plot['Customer_Age'], c=y_label.values, edgecolors='k', cmap=plt.cm.Paired)\n",
        "ax = plt.gca()\n",
        "x_vals = np.array(ax.get_xlim())\n",
        "y_vals = (-x_vals * model2.coef_[0][0] - model2.intercept_[0])/model2.coef_[0][1]\n",
        "plt.plot(x_vals, y_vals, '--', c=\"red\")\n",
        "\n",
        "plt.xlabel('credit limit ')\n",
        "plt.ylabel('customer age')\n",
        "\n",
        "\n",
        "plt.xticks()\n",
        "plt.yticks()\n",
        "\n",
        "plt.show()\n"
      ],
      "execution_count": 25,
      "outputs": [
        {
          "output_type": "stream",
          "text": [
            "/usr/local/lib/python3.7/dist-packages/ipykernel_launcher.py:3: DataConversionWarning: A column-vector y was passed when a 1d array was expected. Please change the shape of y to (n_samples, ), for example using ravel().\n",
            "  This is separate from the ipykernel package so we can avoid doing imports until\n",
            "/usr/local/lib/python3.7/dist-packages/sklearn/utils/validation.py:760: DataConversionWarning: A column-vector y was passed when a 1d array was expected. Please change the shape of y to (n_samples, ), for example using ravel().\n",
            "  y = column_or_1d(y, warn=True)\n"
          ],
          "name": "stderr"
        },
        {
          "output_type": "display_data",
          "data": {
            "image/png": "[encoded data removed]",
            "text/plain": [
              "<Figure size 432x288 with 1 Axes>"
            ]
          },
          "metadata": {
            "tags": [],
            "needs_background": "light"
          }
        }
      ]
    },
    {
      "cell_type": "markdown",
      "metadata": {
        "id": "1ai9iJBwKPXU"
      },
      "source": [
        "#### Question 13: How many samples from your MinMax scaled test set were correctly classified in the ´\\$40K - $60K´ income category? \n",
        "  >_Hint_: use the class sklearn.neighbors.KNeighborsClassifier.predict and sklearn.metric.confusion_matrix\n",
        "  >\n",
        "  >_Hint_: pay close attention to the class ordering of the confusion matrix so you look at the right category"
      ]
    },
    {
      "cell_type": "code",
      "metadata": {
        "id": "o34q5hm9_N1H",
        "colab": {
          "base_uri": "https://localhost:8080/",
          "height": 409
        },
        "outputId": "6aaff87a-3c7f-48dd-a183-11e02bb5a7e0"
      },
      "source": [
        "#TODO: CODE THE CONFUSION METRIC FOR YOUR OPTIMAL CLASSIFIER \n",
        "#HINT: look up the library sklearn.metrics and the function confusion_matrix\n",
        "#y_test = y_test.reshape(-1, 1)\n",
        "from sklearn.metrics import plot_confusion_matrix\n",
        "\n",
        "\n",
        "cm = confusion_matrix(y_test, model.predict(x_test))\n",
        "\n",
        "print(cm)\n",
        "plot_confusion_matrix(model, x_test, y_test)"
      ],
      "execution_count": 26,
      "outputs": [
        {
          "output_type": "stream",
          "text": [
            "[[1008    3    8   15    0    0]\n",
            " [  15  867   29   24   86   41]\n",
            " [  28   39  963   51   11    3]\n",
            " [  38   27   68  955    2    3]\n",
            " [   3  135   14    7  827   96]\n",
            " [   0   30    0    2   37  975]]\n"
          ],
          "name": "stdout"
        },
        {
          "output_type": "execute_result",
          "data": {
            "text/plain": [
              "<sklearn.metrics._plot.confusion_matrix.ConfusionMatrixDisplay at 0x7fce213e8710>"
            ]
          },
          "metadata": {
            "tags": []
          },
          "execution_count": 26
        },
        {
          "output_type": "display_data",
          "data": {
            "image/png": "[encoded data removed]",
            "text/plain": [
              "<Figure size 432x288 with 2 Axes>"
            ]
          },
          "metadata": {
            "tags": [],
            "needs_background": "light"
          }
        }
      ]
    },
    {
      "cell_type": "markdown",
      "metadata": {
        "id": "wWAqe618ofo2"
      },
      "source": [
        "#### Question 14: Which income categories are predicted for the users with ids 77892545 and 77910120 with your optimal classifier? (k with the best accuracy)\n",
        "  >_Hint_: use the class sklearn.neighbors.KNeighborsClassifier.predict\n"
      ]
    },
    {
      "cell_type": "code",
      "metadata": {
        "id": "hGr6-Y88-nso"
      },
      "source": [
        "#TODO: CODE TO SELECT IDS 77892545 AND 77910120\n",
        "#HINT: look up the function isin \n",
        "#TODO: CODE TO COMPUTE THE FEATURES OF INTEREST IN THE RESULTING DATA SET \n",
        "#HINT: use DataFrame indexing .get_dummies\n",
        "selection = df.loc[df['CustomerID'].isin([77892545, 77910120])]\n",
        "y_label2 = y_label[df['CustomerID'].isin([77892545, 77910120])]\n",
        "selec_old1 = selection\n",
        "\n",
        "selection = selection.drop(['CustomerID','Income_Category','Marital_Status','Education_Level'], axis=1)\n",
        "selection = pd.get_dummies(selection, columns=['Gender'])\n",
        "selec_old2 = selection\n",
        "\n",
        "\n",
        "selection = scaler.transform(selection)\n"
      ],
      "execution_count": 27,
      "outputs": []
    },
    {
      "cell_type": "code",
      "metadata": {
        "colab": {
          "base_uri": "https://localhost:8080/",
          "height": 492
        },
        "id": "N1oUA1JLieoD",
        "outputId": "0f30d268-ba12-4bf8-fdc1-cff45b73bd46"
      },
      "source": [
        "display(selec_old1.iloc[0])\n",
        "selec_old2"
      ],
      "execution_count": 28,
      "outputs": [
        {
          "output_type": "display_data",
          "data": {
            "text/plain": [
              "CustomerID                  77910120\n",
              "Customer_Age                      65\n",
              "Gender                             F\n",
              "Dependent_count                    0\n",
              "Education_Level             Graduate\n",
              "Marital_Status               Unknown\n",
              "Income_Category              Unknown\n",
              "Months_on_book                    36\n",
              "Total_Relationship_Count           3\n",
              "Months_Inactive_12_mon             3\n",
              "Contacts_Count_12_mon              4\n",
              "Credit_Limit                 2025.01\n",
              "Total_Revolving_Bal             1701\n",
              "Avg_Open_To_Buy              324.011\n",
              "Total_Amt_Chng_Q4_Q1        0.619158\n",
              "Total_Trans_Amt                 4056\n",
              "Total_Trans_Ct                    71\n",
              "Total_Ct_Chng_Q4_Q1         0.589509\n",
              "Avg_Utilization_Ratio       0.821387\n",
              "Name: 8703, dtype: object"
            ]
          },
          "metadata": {
            "tags": []
          }
        },
        {
          "output_type": "execute_result",
          "data": {
            "text/html": [
              "<div>\n",
              "<style scoped>\n",
              "    .dataframe tbody tr th:only-of-type {\n",
              "        vertical-align: middle;\n",
              "    }\n",
              "\n",
              "    .dataframe tbody tr th {\n",
              "        vertical-align: top;\n",
              "    }\n",
              "\n",
              "    .dataframe thead th {\n",
              "        text-align: right;\n",
              "    }\n",
              "</style>\n",
              "<table border=\"1\" class=\"dataframe\">\n",
              "  <thead>\n",
              "    <tr style=\"text-align: right;\">\n",
              "      <th></th>\n",
              "      <th>Customer_Age</th>\n",
              "      <th>Dependent_count</th>\n",
              "      <th>Months_on_book</th>\n",
              "      <th>Total_Relationship_Count</th>\n",
              "      <th>Months_Inactive_12_mon</th>\n",
              "      <th>Contacts_Count_12_mon</th>\n",
              "      <th>Credit_Limit</th>\n",
              "      <th>Total_Revolving_Bal</th>\n",
              "      <th>Avg_Open_To_Buy</th>\n",
              "      <th>Total_Amt_Chng_Q4_Q1</th>\n",
              "      <th>Total_Trans_Amt</th>\n",
              "      <th>Total_Trans_Ct</th>\n",
              "      <th>Total_Ct_Chng_Q4_Q1</th>\n",
              "      <th>Avg_Utilization_Ratio</th>\n",
              "      <th>Gender_F</th>\n",
              "      <th>Gender_M</th>\n",
              "    </tr>\n",
              "  </thead>\n",
              "  <tbody>\n",
              "    <tr>\n",
              "      <th>8703</th>\n",
              "      <td>65</td>\n",
              "      <td>0</td>\n",
              "      <td>36</td>\n",
              "      <td>3</td>\n",
              "      <td>3</td>\n",
              "      <td>4</td>\n",
              "      <td>2025.007335</td>\n",
              "      <td>1701</td>\n",
              "      <td>324.011241</td>\n",
              "      <td>0.619158</td>\n",
              "      <td>4056</td>\n",
              "      <td>71</td>\n",
              "      <td>0.589509</td>\n",
              "      <td>0.821387</td>\n",
              "      <td>1</td>\n",
              "      <td>0</td>\n",
              "    </tr>\n",
              "    <tr>\n",
              "      <th>12291</th>\n",
              "      <td>54</td>\n",
              "      <td>3</td>\n",
              "      <td>43</td>\n",
              "      <td>4</td>\n",
              "      <td>1</td>\n",
              "      <td>1</td>\n",
              "      <td>13219.011476</td>\n",
              "      <td>0</td>\n",
              "      <td>13219.004344</td>\n",
              "      <td>0.593912</td>\n",
              "      <td>1097</td>\n",
              "      <td>24</td>\n",
              "      <td>0.487970</td>\n",
              "      <td>0.011239</td>\n",
              "      <td>0</td>\n",
              "      <td>1</td>\n",
              "    </tr>\n",
              "  </tbody>\n",
              "</table>\n",
              "</div>"
            ],
            "text/plain": [
              "       Customer_Age  Dependent_count  ...  Gender_F  Gender_M\n",
              "8703             65                0  ...         1         0\n",
              "12291            54                3  ...         0         1\n",
              "\n",
              "[2 rows x 16 columns]"
            ]
          },
          "metadata": {
            "tags": []
          },
          "execution_count": 28
        }
      ]
    },
    {
      "cell_type": "code",
      "metadata": {
        "id": "v5GR3MFY-hqG",
        "colab": {
          "base_uri": "https://localhost:8080/"
        },
        "outputId": "c1ed43f9-9bcd-4c72-c5e4-144bea0afb25"
      },
      "source": [
        "#TODO: CODE TO COMPUTE THE PREDICTION USING THE K WITH THE BEST ACCURACY \n",
        "#HINT: use KNeighborsClassifier.predict, KNeighborsClassifier.predict_proba, sklearn.preprocessing.LabelEncoder.inverse_transform\n",
        "#Remember that the encoding turned ['$120K +', 'Less than $40K', '$40K - $60K', '$60K - $80K','Unknown', '$80K - $120K'] into [0, 4, 1, 2, 5, 3] in that order\n",
        "\n",
        "predicted = model.predict(selection)\n",
        "print(predicted)\n"
      ],
      "execution_count": 29,
      "outputs": [
        {
          "output_type": "stream",
          "text": [
            "[5 0]\n"
          ],
          "name": "stdout"
        }
      ]
    },
    {
      "cell_type": "markdown",
      "metadata": {
        "id": "HvYzYl_nxaOZ"
      },
      "source": [
        "#### Question 15: What are the probabilities for each of the two customers to be classified in the correct income category? (round to 2 decimals)\n",
        "  >_Hint_: use the class sklearn.neighbors KNeighborsClassifier.predict_proba\n"
      ]
    },
    {
      "cell_type": "code",
      "metadata": {
        "id": "c29Erp3Sym9P",
        "colab": {
          "base_uri": "https://localhost:8080/"
        },
        "outputId": "dde6d278-f127-438e-e17a-96ee3162f5a2"
      },
      "source": [
        "#TODO: CODE TO COMPUTE THE PREDICTION USING THE K WITH THE BEST ACCURACY \n",
        "#HINT: use KNeighborsClassifier.predict,  KNeighborsClassifier.predict_proba\n",
        "#Remember that the encoding turned ['$120K +', 'Less than $40K', '$40K - $60K', '$60K - $80K','Unknown', '$80K - $120K'] into [0, 4, 1, 2, 5, 3] in that order\n",
        "#LabelEncoder.inverse_transform(knn_model.classes_)) should give probality and class correspondance \n",
        "predicted_proba = model.predict_proba(selection)\n",
        "print(predicted_proba)"
      ],
      "execution_count": 30,
      "outputs": [
        {
          "output_type": "stream",
          "text": [
            "[[0. 0. 0. 0. 0. 1.]\n",
            " [1. 0. 0. 0. 0. 0.]]\n"
          ],
          "name": "stdout"
        }
      ]
    },
    {
      "cell_type": "markdown",
      "metadata": {
        "id": "nNsic6BsK2-z"
      },
      "source": [
        "#### Question 16: What are the probabilities for the users with IDs 77892545 and 77910120 (same as before), using a kNN Classifier with k=6, to be associated to `Less than 40K`  and `60K - 80K` respectively? (round to 2 decimals)\n",
        "  >_Hint_: use the class sklearn.neighbors KNeighborsClassifier.predict_proba\n",
        "  >\n",
        "  >_Hint_: use the class sklearn.preprocessing.LabelEncoder.Inverse_transform on KNeighborsClassifier.classes_ to get class correspondence, use the class KNeighborsClassifier.predict_proba"
      ]
    },
    {
      "cell_type": "code",
      "metadata": {
        "id": "DiXQyBv6KAP2",
        "colab": {
          "base_uri": "https://localhost:8080/"
        },
        "outputId": "78314b6e-9f5d-4c22-848e-b248971be1e5"
      },
      "source": [
        " #TODO: CODE TO COMPUTE THE PREDICTION USING K = 6 \n",
        "#HINT: use KNeighborsClassifier.predict,  KNeighborsClassifier.predict_proba\n",
        "#Remember that the encoding turned ['$120K +', 'Less than $40K', '$40K - $60K', '$60K - $80K','Unknown', '$80K - $120K'] into [0, 4, 1, 2, 5, 3] in that order\n",
        "model2 = KNeighborsClassifier(6)\n",
        "model2.fit(x_train, y_train)\n",
        "\n",
        "predicted_proba2 = model2.predict_proba(selection)\n",
        "print(predicted_proba2)\n",
        "\n",
        "#test which one is first row -->\n",
        "predicted_proba2_test = model2.predict_proba(selection[0].reshape(1,-1))\n",
        "print(predicted_proba2_test)\n",
        "\n"
      ],
      "execution_count": 31,
      "outputs": [
        {
          "output_type": "stream",
          "text": [
            "[[0.         0.         0.         0.         0.16666667 0.83333333]\n",
            " [0.66666667 0.         0.         0.33333333 0.         0.        ]]\n",
            "[[0.         0.         0.         0.         0.16666667 0.83333333]]\n"
          ],
          "name": "stdout"
        },
        {
          "output_type": "stream",
          "text": [
            "/usr/local/lib/python3.7/dist-packages/ipykernel_launcher.py:5: DataConversionWarning: A column-vector y was passed when a 1d array was expected. Please change the shape of y to (n_samples, ), for example using ravel().\n",
            "  \"\"\"\n"
          ],
          "name": "stderr"
        }
      ]
    },
    {
      "cell_type": "code",
      "metadata": {
        "id": "5ggDDLeunTZD"
      },
      "source": [
        ""
      ],
      "execution_count": 31,
      "outputs": []
    }
  ]
}